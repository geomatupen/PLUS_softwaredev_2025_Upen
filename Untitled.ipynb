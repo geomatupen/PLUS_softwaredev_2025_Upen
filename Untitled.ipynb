{
 "cells": [
  {
   "cell_type": "code",
   "execution_count": 8,
   "id": "189da533-76da-4610-8d36-9e9f78b2d439",
   "metadata": {},
   "outputs": [
    {
     "name": "stdout",
     "output_type": "stream",
     "text": [
      "[8, 5, 4, 2, 1]\n",
      "5\n"
     ]
    },
    {
     "data": {
      "text/plain": [
       "\u001b[31mSignature:\u001b[39m sorted(iterable, /, *, key=\u001b[38;5;28;01mNone\u001b[39;00m, reverse=\u001b[38;5;28;01mFalse\u001b[39;00m)\n",
       "\u001b[31mDocstring:\u001b[39m\n",
       "Return a new list containing all items from the iterable in ascending order.\n",
       "\n",
       "A custom key function can be supplied to customize the sort order, and the\n",
       "reverse flag can be set to request the result in descending order.\n",
       "\u001b[31mType:\u001b[39m      builtin_function_or_method"
      ]
     },
     "metadata": {},
     "output_type": "display_data"
    }
   ],
   "source": [
    "#this is a single line comment\n",
    "''' This is a \n",
    "multiline Comment'''\n",
    "\n",
    "\n",
    "\n",
    "print(sorted([1,5,8,2,4], reverse = True))\n",
    "print(len([1,5,8,2,4]))\n",
    "?sorted\n"
   ]
  },
  {
   "cell_type": "code",
   "execution_count": 1,
   "id": "62dc993c-14b4-4e47-b3ac-5f5862b87b59",
   "metadata": {},
   "outputs": [
    {
     "name": "stdout",
     "output_type": "stream",
     "text": [
      "[1, 2, 3, 5, 4]\n"
     ]
    }
   ],
   "source": [
    "from package.test import returnVariable\n",
    "print (returnVariable())"
   ]
  },
  {
   "cell_type": "code",
   "execution_count": null,
   "id": "58dec7a1-7357-4463-8d34-6a5b7ffdcbca",
   "metadata": {},
   "outputs": [],
   "source": []
  }
 ],
 "metadata": {
  "kernelspec": {
   "display_name": "Python 3 (ipykernel)",
   "language": "python",
   "name": "python3"
  },
  "language_info": {
   "codemirror_mode": {
    "name": "ipython",
    "version": 3
   },
   "file_extension": ".py",
   "mimetype": "text/x-python",
   "name": "python",
   "nbconvert_exporter": "python",
   "pygments_lexer": "ipython3",
   "version": "3.12.3"
  }
 },
 "nbformat": 4,
 "nbformat_minor": 5
}
