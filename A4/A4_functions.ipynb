{
 "cells": [
  {
   "cell_type": "markdown",
   "id": "748139c6-fd96-40f6-a26b-1022813d5f4c",
   "metadata": {},
   "source": [
    "# A4 Assignment - EO Utility Functions\n",
    "\n",
    "This notebook demonstrates the use of geospecific Earth Observation functions defined in `eo_utils.py`.\n"
   ]
  },
  {
   "cell_type": "code",
   "execution_count": 2,
   "id": "d740bfd4-5626-4792-8bea-25f7c9de7c0b",
   "metadata": {},
   "outputs": [],
   "source": [
    "import numpy as np\n",
    "import rasterio\n",
    "from eo_utils import calculate_ndvi, clip_raster_to_bounds, latlon_to_utm\n"
   ]
  },
  {
   "cell_type": "markdown",
   "id": "6a6b9b58-4ce1-49ed-b6d6-cfeb0f4d15d2",
   "metadata": {},
   "source": [
    "## 1. Calculate NDVI\n",
    "We'll extract the Red (Band 4) and NIR (Band 8) bands from the Sentinel-2 image and pass them to the function we created in the eo_utils.py.\n"
   ]
  },
  {
   "cell_type": "code",
   "execution_count": 3,
   "id": "11899563-d978-4e7a-81fa-8dc8f0d5a7fd",
   "metadata": {},
   "outputs": [
    {
     "data": {
      "text/plain": [
       "(277, 305)"
      ]
     },
     "execution_count": 3,
     "metadata": {},
     "output_type": "execute_result"
    }
   ],
   "source": [
    "image_path = \"data/S2B_42RVR_20220905_0_L2A_bands_export.tif\"\n",
    "\n",
    "with rasterio.open(image_path) as src:\n",
    "    red = src.read(4)\n",
    "    nir = src.read(8)\n",
    "\n",
    "ndvi = calculate_ndvi(nir, red)\n",
    "ndvi.shape\n"
   ]
  },
  {
   "cell_type": "markdown",
   "id": "987e0a3d-fbd6-4ea1-8e86-453d834d7e41",
   "metadata": {},
   "source": [
    "## 2. Clip Raster to Bounds\n",
    "We'll clip a small region using bounding box coordinates in the UTM zone of the image using the function we created in the eo_utils.py.\n"
   ]
  },
  {
   "cell_type": "code",
   "execution_count": 8,
   "id": "9f084303-a72a-4312-8d9b-25d3395ef407",
   "metadata": {},
   "outputs": [
    {
     "name": "stdout",
     "output_type": "stream",
     "text": [
      "Clipped image saved to: data/clipped_image.tif\n"
     ]
    }
   ],
   "source": [
    "bounds = (399960.0, 3094480.0, 401960.0, 3096480.0)  \n",
    "output_clip_path = \"data/clipped_image.tif\"\n",
    "\n",
    "clip_raster_to_bounds(image_path, bounds, output_clip_path)\n",
    "print(\"Clipped image saved to:\", output_clip_path)\n"
   ]
  },
  {
   "cell_type": "markdown",
   "id": "e10cea42-a916-44c0-a1f2-77370b4e1572",
   "metadata": {},
   "source": [
    "## 3. Convert Latitude and Longitude to UTM\n",
    "Latitude and longitude is converted to UTM using the function we created in eo_utlis.py"
   ]
  },
  {
   "cell_type": "code",
   "execution_count": 9,
   "id": "9b635b1e-f9f2-4459-b013-8a40fa187401",
   "metadata": {},
   "outputs": [
    {
     "name": "stdout",
     "output_type": "stream",
     "text": [
      "UTM Coordinates: Easting=334769.78, Northing=3067000.01, Zone=45\n"
     ]
    }
   ],
   "source": [
    "lat, lon = 27.7172, 85.3240  # Kathmandu\n",
    "easting, northing, utm_zone = latlon_to_utm(lat, lon)\n",
    "print(f\"UTM Coordinates: Easting={easting:.2f}, Northing={northing:.2f}, Zone={utm_zone}\")\n"
   ]
  },
  {
   "cell_type": "code",
   "execution_count": null,
   "id": "bb9e0fd0-6676-4b5f-9cfe-0b10a211135e",
   "metadata": {},
   "outputs": [],
   "source": []
  }
 ],
 "metadata": {
  "kernelspec": {
   "display_name": "Python 3 (ipykernel)",
   "language": "python",
   "name": "python3"
  },
  "language_info": {
   "codemirror_mode": {
    "name": "ipython",
    "version": 3
   },
   "file_extension": ".py",
   "mimetype": "text/x-python",
   "name": "python",
   "nbconvert_exporter": "python",
   "pygments_lexer": "ipython3",
   "version": "3.12.3"
  }
 },
 "nbformat": 4,
 "nbformat_minor": 5
}
